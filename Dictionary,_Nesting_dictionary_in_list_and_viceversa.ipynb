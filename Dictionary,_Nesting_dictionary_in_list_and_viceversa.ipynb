{
  "nbformat": 4,
  "nbformat_minor": 0,
  "metadata": {
    "colab": {
      "provenance": [],
      "authorship_tag": "ABX9TyM7N/SVzw+4+WAZ03gxzjpm",
      "include_colab_link": true
    },
    "kernelspec": {
      "name": "python3",
      "display_name": "Python 3"
    },
    "language_info": {
      "name": "python"
    }
  },
  "cells": [
    {
      "cell_type": "markdown",
      "metadata": {
        "id": "view-in-github",
        "colab_type": "text"
      },
      "source": [
        "<a href=\"https://colab.research.google.com/github/Matinnorouzi2023/Leetcode-Python/blob/main/Dictionary%2C_Nesting_dictionary_in_list_and_viceversa.ipynb\" target=\"_parent\"><img src=\"https://colab.research.google.com/assets/colab-badge.svg\" alt=\"Open In Colab\"/></a>"
      ]
    },
    {
      "cell_type": "code",
      "execution_count": 1,
      "metadata": {
        "colab": {
          "base_uri": "https://localhost:8080/"
        },
        "id": "Si6qbM5G2kvq",
        "outputId": "9e1e6d21-0758-47fe-b691-2a2ca6f4b4fb"
      },
      "outputs": [
        {
          "output_type": "stream",
          "name": "stdout",
          "text": [
            "{'Mina': 'Exceeds expectations', 'Sareh': 'Acceptable', 'Hermione': 'Outstanding', 'Diana': 'Acceptable', 'Neville': 'Fail'}\n"
          ]
        }
      ],
      "source": [
        "student_scores = {\n",
        "  \"Mina\": 81,\n",
        "  \"Sareh\": 78,\n",
        "  \"Hermione\": 99,\n",
        "  \"Diana\": 74,\n",
        "  \"Neville\": 62,\n",
        "}\n",
        "\n",
        "student_grades = {}\n",
        "\n",
        "for student in student_scores:\n",
        "    score = student_scores[student]\n",
        "    if score > 90:\n",
        "      student_grades[student] =  \"Outstanding\"\n",
        "    elif score> 80:\n",
        "      student_grades[student] = \"Exceeds expectations\"\n",
        "    elif score > 70:\n",
        "      student_grades[student] = \"Acceptable\"\n",
        "    else:\n",
        "      student_grades[student] = \"Fail\"\n",
        "print(student_grades)"
      ]
    },
    {
      "cell_type": "markdown",
      "source": [
        "##Python Dictionaries"
      ],
      "metadata": {
        "id": "YpY53o9925bH"
      }
    },
    {
      "cell_type": "code",
      "source": [
        "programming_dictionary = {\n",
        "  \"Bug\": \"An error in a program that prevents the program from running as expected.\",\n",
        "  \"Function\": \"A piece of code that you can easily call over and over again.\",\n",
        "}\n",
        "#Retrieving items from dictionary.\n",
        "print(programming_dictionary[\"Function\"])"
      ],
      "metadata": {
        "colab": {
          "base_uri": "https://localhost:8080/"
        },
        "id": "7HVp1btr3Ab8",
        "outputId": "610e5ec2-630f-451c-e12a-3dba17925bb7"
      },
      "execution_count": 8,
      "outputs": [
        {
          "output_type": "stream",
          "name": "stdout",
          "text": [
            "A piece of code that you can easily call over and over again.\n"
          ]
        }
      ]
    },
    {
      "cell_type": "code",
      "source": [
        "student_scores = {\n",
        "  \"Mina\": 81,\n",
        "  \"Sareh\": 78,\n",
        "  \"Hermione\": 99,\n",
        "  \"Diana\": 74,\n",
        "  \"Neville\": 62,\n",
        "}\n",
        "\n",
        "student_grades = {}\n",
        "\n",
        "for student in student_scores:\n",
        "    score = student_scores[student]\n",
        "    if score > 90:\n",
        "      student_grades[student] =  \"Outstanding\"\n",
        "    elif score> 80:\n",
        "      student_grades[student] = \"Exceeds expectations\"\n",
        "    elif score > 70:\n",
        "      student_grades[student] = \"Acceptable\"\n",
        "    else:\n",
        "      student_grades[student] = \"Fail\"\n",
        "print(student_grades)\n",
        "\n",
        "##Python Dictionaries\n",
        "\n",
        "programming_dictionary = {\n",
        "  \"Bug\": \"An error in a program that prevents the program from running as expected.\",\n",
        "  \"Function\": \"A piece of code that you can easily call over and over again.\",\n",
        "}\n",
        "\n",
        "#Retrieving items from dictionary.\n",
        "# print(programming_dictionary[\"Function\"])\n",
        "\n",
        "#Adding new items to dictionary.\n",
        "programming_dictionary[\"Loop\"] = \"The action of doing something over and over again.\"\n",
        "\n",
        "#Create an empty dictionary.\n",
        "empty_dictionary = {}\n",
        "\n",
        "#Wipe an existing dictionary\n",
        "# programming_dictionary = {}\n",
        "# print(programming_dictionary)\n",
        "\n",
        "#Edit an item in a dictionary\n",
        "programming_dictionary[\"Bug\"] = \"A moth in your computer.\"\n",
        "# print(programming_dictionary)\n",
        "\n",
        "#Loop through a dictionary\n",
        "# for key in programming_dictionary:\n",
        "#   print(key)\n",
        "#   print(programming_dictionary[key])\n",
        "\n",
        "#######################################\n",
        "\n",
        "#Nesting\n",
        "capitals = {\n",
        "  \"France\": \"Paris\",\n",
        "  \"Germany\": \"Berlin\",\n",
        "}\n",
        "\n",
        "#Nesting a List in a Dictionary\n",
        "\n",
        "travel_log = {\n",
        "  \"France\": [\"Paris\", \"Lille\", \"Dijon\"],\n",
        "  \"Germany\": [\"Berlin\", \"Hamburg\", \"Stuttgart\"],\n",
        "}\n",
        "\n",
        "#Nesting Dictionary in a Dictionary\n",
        "\n",
        "travel_log = {\n",
        "  \"France\": {\"cities_visited\": [\"Paris\", \"Lille\", \"Dijon\"], \"total_visits\": 12},\n",
        "  \"Germany\": {\"cities_visited\": [\"Berlin\", \"Hamburg\", \"Stuttgart\"], \"total_visits\": 5},\n",
        "}\n",
        "\n",
        "#Nesting Dictionaries in Lists\n",
        "\n",
        "travel_log = [\n",
        "{\n",
        "  \"country\": \"France\",\n",
        "  \"cities_visited\": [\"Paris\", \"Lille\", \"Dijon\"],\n",
        "  \"total_visits\": 12,\n",
        "},\n",
        "{\n",
        "  \"country\": \"Germany\",\n",
        "  \"cities_visited\": [\"Berlin\", \"Hamburg\", \"Stuttgart\"],\n",
        "  \"total_visits\": 5,\n",
        "},\n",
        "]"
      ],
      "metadata": {
        "colab": {
          "base_uri": "https://localhost:8080/"
        },
        "id": "zIaURxvJ3pMw",
        "outputId": "892645ac-3f0f-497d-abe4-1b6c71e2f871"
      },
      "execution_count": 11,
      "outputs": [
        {
          "output_type": "stream",
          "name": "stdout",
          "text": [
            "{'Mina': 'Exceeds expectations', 'Sareh': 'Acceptable', 'Hermione': 'Outstanding', 'Diana': 'Acceptable', 'Neville': 'Fail'}\n"
          ]
        }
      ]
    }
  ]
}