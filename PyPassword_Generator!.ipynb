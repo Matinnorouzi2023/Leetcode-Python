{
  "nbformat": 4,
  "nbformat_minor": 0,
  "metadata": {
    "colab": {
      "provenance": [],
      "authorship_tag": "ABX9TyPmlAe8RODDPkhiR7GcAW42",
      "include_colab_link": true
    },
    "kernelspec": {
      "name": "python3",
      "display_name": "Python 3"
    },
    "language_info": {
      "name": "python"
    }
  },
  "cells": [
    {
      "cell_type": "markdown",
      "metadata": {
        "id": "view-in-github",
        "colab_type": "text"
      },
      "source": [
        "<a href=\"https://colab.research.google.com/github/Matinnorouzi2023/Leetcode-Python/blob/main/PyPassword_Generator!.ipynb\" target=\"_parent\"><img src=\"https://colab.research.google.com/assets/colab-badge.svg\" alt=\"Open In Colab\"/></a>"
      ]
    },
    {
      "cell_type": "code",
      "execution_count": 3,
      "metadata": {
        "colab": {
          "base_uri": "https://localhost:8080/"
        },
        "id": "jesGwdztVfza",
        "outputId": "4af544b9-48c4-42aa-f6bc-6de867fb01a4"
      },
      "outputs": [
        {
          "output_type": "stream",
          "name": "stdout",
          "text": [
            "Welcome to the PyPassword Generator!\n",
            "\n",
            "how many letters would you like in your password ?\n",
            "4\n",
            "how many symbol would you like?\n",
            "2\n",
            "how many numbers would you like?\n",
            "6\n",
            "['t', 'p', 'l', 'u', '%', '+', '0', '8', '5', '8', '4', '3']\n",
            "['u', '4', 't', 'p', 'l', '0', '%', '5', '8', '+', '3', '8']\n",
            "here are your password: ['u', '4', 't', 'p', 'l', '0', '%', '5', '8', '+', '3', '8']\n"
          ]
        }
      ],
      "source": [
        "import random\n",
        "letters=['a', 'b', 'c','d','e','f','g','h','i','j','k','l','m','n','o','p','q','r','s','t','u','v','w','x','y','z','A',]\n",
        "numbers=['0','1','3','4','5','6','7','8','9']\n",
        "symbols=['?','#','$','%','&','(',')','*','+']\n",
        "password_list=[]\n",
        "print(\"Welcome to the PyPassword Generator!\\n\")\n",
        "nr_letters=int(input(\"how many letters would you like in your password ?\\n\"))\n",
        "#nr_letters=4\n",
        "for char in range(1, nr_letters+1):\n",
        " # random_char= random.choice(letters)\n",
        " # password+=random_char\n",
        " password_list.append(random.choice(letters))\n",
        " # print(password)\n",
        "nr_numbers=int(input(\"how many symbol would you like?\\n\"))\n",
        "for char in range(1,nr_numbers+1):\n",
        " # random_char= random.choice(symbols)\n",
        " # password += random_char\n",
        " password_list +=random.choice(symbols)\n",
        " # print(password)\n",
        "nr_symbols=int(input(\"how many numbers would you like?\\n\"))\n",
        "for i in range(1, nr_symbols+1):\n",
        " # random_char= random.choice(numbers)\n",
        " # password += random_char\n",
        " password_list += random.choice(numbers)\n",
        "print(password_list)\n",
        "random.shuffle(password_list)\n",
        "print(password_list)\n",
        "password=\"\"\n",
        "for char in password_list:\n",
        "  password += char\n",
        "print(f\"here are your password: {password_list}\")"
      ]
    }
  ]
}