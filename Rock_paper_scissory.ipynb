{
  "nbformat": 4,
  "nbformat_minor": 0,
  "metadata": {
    "colab": {
      "provenance": [],
      "authorship_tag": "ABX9TyPb2qs0i43vF9iKpAJy0mHQ",
      "include_colab_link": true
    },
    "kernelspec": {
      "name": "python3",
      "display_name": "Python 3"
    },
    "language_info": {
      "name": "python"
    }
  },
  "cells": [
    {
      "cell_type": "markdown",
      "metadata": {
        "id": "view-in-github",
        "colab_type": "text"
      },
      "source": [
        "<a href=\"https://colab.research.google.com/github/Matinnorouzi2023/Leetcode-Python/blob/main/Rock_paper_scissory.ipynb\" target=\"_parent\"><img src=\"https://colab.research.google.com/assets/colab-badge.svg\" alt=\"Open In Colab\"/></a>"
      ]
    },
    {
      "cell_type": "code",
      "execution_count": 1,
      "metadata": {
        "colab": {
          "base_uri": "https://localhost:8080/"
        },
        "id": "YtoyYPQPF4Fg",
        "outputId": "c388ed2e-90ec-43b6-9035-b09e70a2aa58"
      },
      "outputs": [
        {
          "output_type": "stream",
          "name": "stdout",
          "text": [
            " what do you choose? Type 0 for rock, 1 for paper or 2 for Scissors.\n",
            "1\n",
            "\n",
            "    _______\n",
            "---'   ____)____\n",
            "          ______)\n",
            "          _______)\n",
            "         _______)\n",
            "---.__________)\n",
            "\n",
            "computer_choice \n",
            "\n",
            "    _______\n",
            "---'   ____)____\n",
            "          ______)\n",
            "       __________)\n",
            "      (____)\n",
            "---.__(___)\n",
            "\n",
            "you lose\n"
          ]
        }
      ],
      "source": [
        "import random\n",
        "\n",
        "rock = '''\n",
        "    _______\n",
        "---'   ____)\n",
        "      (_____)\n",
        "      (_____)\n",
        "      (____)\n",
        "---.__(___)\n",
        "'''\n",
        "\n",
        "paper = '''\n",
        "    _______\n",
        "---'   ____)____\n",
        "          ______)\n",
        "          _______)\n",
        "         _______)\n",
        "---.__________)\n",
        "'''\n",
        "\n",
        "scissors = '''\n",
        "    _______\n",
        "---'   ____)____\n",
        "          ______)\n",
        "       __________)\n",
        "      (____)\n",
        "---.__(___)\n",
        "'''\n",
        "game_image=[rock,paper, scissors]\n",
        "user_choice = int(input(\" what do you choose? Type 0 for rock, 1 for paper or 2 for Scissors.\\n\"))\n",
        "\n",
        "\n",
        "if user_choice >= 3 or user_choice < 0:\n",
        "    print(\"You typed an invalid number, you lose!\")\n",
        "else:\n",
        "    print(game_image[user_choice])\n",
        "\n",
        "    computer_choice = random.randint(0,2)\n",
        "    print(\"computer_choice \")\n",
        "    print(game_image[computer_choice])\n",
        "\n",
        "    if user_choice == 0 and computer_choice == 2:\n",
        "        print(\"You win!\")\n",
        "    elif user_choice == 2 and computer_choice == 0:\n",
        "        print(\"I lose!\")\n",
        "    elif computer_choice > user_choice:\n",
        "        print(\"you lose\")\n",
        "    elif user_choice > computer_choice:\n",
        "        print(\"I win!\")\n",
        "    elif computer_choice == user_choice:\n",
        "        print(\"It's a draw\")\n"
      ]
    }
  ]
}