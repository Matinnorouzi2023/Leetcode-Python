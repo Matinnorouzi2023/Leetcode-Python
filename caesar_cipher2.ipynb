{
  "nbformat": 4,
  "nbformat_minor": 0,
  "metadata": {
    "colab": {
      "provenance": [],
      "authorship_tag": "ABX9TyO2IHMpRQj/FxS59qhdnc3S",
      "include_colab_link": true
    },
    "kernelspec": {
      "name": "python3",
      "display_name": "Python 3"
    },
    "language_info": {
      "name": "python"
    }
  },
  "cells": [
    {
      "cell_type": "markdown",
      "metadata": {
        "id": "view-in-github",
        "colab_type": "text"
      },
      "source": [
        "<a href=\"https://colab.research.google.com/github/Matinnorouzi2023/Leetcode-Python/blob/main/caesar_cipher2.ipynb\" target=\"_parent\"><img src=\"https://colab.research.google.com/assets/colab-badge.svg\" alt=\"Open In Colab\"/></a>"
      ]
    },
    {
      "cell_type": "code",
      "execution_count": 2,
      "metadata": {
        "colab": {
          "base_uri": "https://localhost:8080/"
        },
        "id": "7XvsAuzDbIwv",
        "outputId": "a773bdee-3e1f-4c9d-81b5-a0904d691487"
      },
      "outputs": [
        {
          "output_type": "stream",
          "name": "stdout",
          "text": [
            "Type 'encode' to encrypt,type 'decode' to decrypt:\n",
            "decode\n",
            "Type your message:\n",
            "mjqqt\n",
            "Type the shift number:\n",
            "5\n",
            "The decode text is hello\n"
          ]
        }
      ],
      "source": [
        "alphabet = ['a', 'b', 'c', 'd', 'e', 'f', 'g', 'h', 'i', 'j', 'k', 'l', 'm', 'n', 'o', 'p', 'q', 'r', 's', 't', 'u',\n",
        "'v', 'w', 'x', 'y', 'z']\n",
        "direction = input(\"Type 'encode' to encrypt,type 'decode' to decrypt:\\n\")\n",
        "text = input(\"Type your message:\\n\").lower()\n",
        "shift = int(input(\"Type the shift number:\\n\"))\n",
        "\n",
        "\n",
        "def encrypt(plain_text, shift_amount):\n",
        "    cipher_text = \"\"\n",
        "    for letter in plain_text:\n",
        "      position = alphabet.index(letter)\n",
        "      new_position = position + shift_amount\n",
        "      cipher_text += alphabet[new_position]\n",
        "    print(f\"The encode text is {cipher_text}\")\n",
        "\n",
        "def decrypt(cipher_text, shift_amount):\n",
        "    plain_text= \"\"\n",
        "    for letter in cipher_text:\n",
        "      position = alphabet.index(letter)\n",
        "      new_position = position - shift_amount\n",
        "      plain_text += alphabet[new_position]\n",
        "    print(f\"The decode text is {plain_text}\")\n",
        "\n",
        "if direction == \"encode\":\n",
        "   encrypt(plain_text= text, shift_amount=shift)\n",
        "elif direction == \"decode\":\n",
        "   decrypt(cipher_text=text, shift_amount=shift)"
      ]
    }
  ]
}