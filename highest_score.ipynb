{
  "nbformat": 4,
  "nbformat_minor": 0,
  "metadata": {
    "colab": {
      "provenance": [],
      "authorship_tag": "ABX9TyNq1aYERcnNVpKM/k9HWdz0",
      "include_colab_link": true
    },
    "kernelspec": {
      "name": "python3",
      "display_name": "Python 3"
    },
    "language_info": {
      "name": "python"
    }
  },
  "cells": [
    {
      "cell_type": "markdown",
      "metadata": {
        "id": "view-in-github",
        "colab_type": "text"
      },
      "source": [
        "<a href=\"https://colab.research.google.com/github/Matinnorouzi2023/Leetcode-Python/blob/main/highest_score.ipynb\" target=\"_parent\"><img src=\"https://colab.research.google.com/assets/colab-badge.svg\" alt=\"Open In Colab\"/></a>"
      ]
    },
    {
      "cell_type": "code",
      "source": [
        "student_scores = input(\"Enter student scores separated by space: \").split()\n",
        "\n",
        "for n in range(0, len(student_scores)):\n",
        "    student_scores[n] = int(student_scores[n])\n",
        "\n",
        "highest_score = 0\n",
        "\n",
        "for score in student_scores:\n",
        "    if score > highest_score:\n",
        "        highest_score = score\n",
        "\n",
        "print(f\"The highest score in the class is: {highest_score}\")\n"
      ],
      "metadata": {
        "colab": {
          "base_uri": "https://localhost:8080/"
        },
        "id": "cVvVIM3k7hEM",
        "outputId": "615d1ec1-fd96-4d0d-c4ed-eb8bcd074965"
      },
      "execution_count": 2,
      "outputs": [
        {
          "output_type": "stream",
          "name": "stdout",
          "text": [
            "Enter student scores separated by space: 10 20 30 40 50 60 70 \n",
            "The highest score in the class is: 70\n"
          ]
        }
      ]
    },
    {
      "cell_type": "code",
      "source": [],
      "metadata": {
        "id": "IpF0LQmm7yiq"
      },
      "execution_count": null,
      "outputs": []
    }
  ]
}