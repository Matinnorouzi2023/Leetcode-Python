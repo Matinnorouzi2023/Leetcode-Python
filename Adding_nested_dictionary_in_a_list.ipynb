{
  "nbformat": 4,
  "nbformat_minor": 0,
  "metadata": {
    "colab": {
      "provenance": [],
      "authorship_tag": "ABX9TyPXei/HOMu0tk5ShFWXErnu",
      "include_colab_link": true
    },
    "kernelspec": {
      "name": "python3",
      "display_name": "Python 3"
    },
    "language_info": {
      "name": "python"
    }
  },
  "cells": [
    {
      "cell_type": "markdown",
      "metadata": {
        "id": "view-in-github",
        "colab_type": "text"
      },
      "source": [
        "<a href=\"https://colab.research.google.com/github/Matinnorouzi2023/Leetcode-Python/blob/main/Adding_nested_dictionary_in_a_list.ipynb\" target=\"_parent\"><img src=\"https://colab.research.google.com/assets/colab-badge.svg\" alt=\"Open In Colab\"/></a>"
      ]
    },
    {
      "cell_type": "code",
      "execution_count": 4,
      "metadata": {
        "colab": {
          "base_uri": "https://localhost:8080/"
        },
        "id": "niskObSA9NJr",
        "outputId": "1a48b6c3-b560-4e9c-bfe2-9aaa7bac568c"
      },
      "outputs": [
        {
          "output_type": "stream",
          "name": "stdout",
          "text": [
            "Germany\n",
            "5\n",
            "[\"Berlin\", \"Hamburg\", \"Stuttgart\"]\n",
            "I've been to Germany 5 times.\n",
            "My favourite city was Berlin.\n"
          ]
        }
      ],
      "source": [
        "country = input() # Add country name\n",
        "visits = int(input()) # Number of visits\n",
        "list_of_cities = eval(input()) # create list from formatted string\n",
        "travel_log = [\n",
        "  {\n",
        "    \"country\": \"France\",\n",
        "    \"visits\": 12,\n",
        "    \"cities\": [\"Paris\", \"Lille\", \"Dijon\"]\n",
        "  },\n",
        "  {\n",
        "    \"country\": \"Germany\",\n",
        "    \"visits\": 5,\n",
        "    \"cities\": [\"Berlin\", \"Hamburg\", \"Stuttgart\"]\n",
        "  },\n",
        "]\n",
        "# Your code here 👇\n",
        "def add_new_country(name, times_visited, cities_visited):\n",
        "  new_country = {}\n",
        "  new_country[\"country\"] = name\n",
        "  new_country[\"visits\"] = times_visited\n",
        "  new_country[\"cities\"] = cities_visited\n",
        "  travel_log.append(new_country)\n",
        "\n",
        "add_new_country(country, visits, list_of_cities)\n",
        "print(f\"I've been to {travel_log[2]['country']} {travel_log[2]['visits']} times.\")\n",
        "print(f\"My favourite city was {travel_log[2]['cities'][0]}.\")"
      ]
    }
  ]
}