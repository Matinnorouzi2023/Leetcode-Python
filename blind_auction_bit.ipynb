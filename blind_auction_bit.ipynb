{
  "nbformat": 4,
  "nbformat_minor": 0,
  "metadata": {
    "colab": {
      "provenance": [],
      "authorship_tag": "ABX9TyM2P1YhQSRKuMYZB5S2nf+/",
      "include_colab_link": true
    },
    "kernelspec": {
      "name": "python3",
      "display_name": "Python 3"
    },
    "language_info": {
      "name": "python"
    }
  },
  "cells": [
    {
      "cell_type": "markdown",
      "metadata": {
        "id": "view-in-github",
        "colab_type": "text"
      },
      "source": [
        "<a href=\"https://colab.research.google.com/github/Matinnorouzi2023/Leetcode-Python/blob/main/blind_auction_bit.ipynb\" target=\"_parent\"><img src=\"https://colab.research.google.com/assets/colab-badge.svg\" alt=\"Open In Colab\"/></a>"
      ]
    },
    {
      "cell_type": "code",
      "execution_count": 8,
      "metadata": {
        "colab": {
          "base_uri": "https://localhost:8080/",
          "height": 380
        },
        "id": "2CtsKWC8F2SR",
        "outputId": "a2017bd1-3618-4de5-81cd-9f662c90b552"
      },
      "outputs": [
        {
          "output_type": "stream",
          "name": "stdout",
          "text": [
            "\n",
            "                         ___________\n",
            "                         \\         /\n",
            "                          )_______(\n",
            "                          |\"\"\"\"\"\"\"|_.-._,.---------.,_.-._\n",
            "                          |       | | |               | | ''-.\n",
            "                          |       |_| |_             _| |_..-'\n",
            "                          |_______| '-' `'---------'` '-'\n",
            "                          )\"\"\"\"\"\"\"(\n",
            "                         /_________\\\n",
            "                       .-------------.\n",
            "                      /_______________\\\n",
            "\n",
            "What is your name?: Mino\n",
            "What is your bid?: $100\n",
            "Are there any other bidders? Type 'yes or 'no'.\n",
            "no\n",
            "The winner is Mino with a bid of $100\n"
          ]
        },
        {
          "output_type": "execute_result",
          "data": {
            "text/plain": [
              "\"\\nFAQ: My console doesn't clear()\\n\\nThis will happen if you’re using an IDE other than replit. \\nI’ll cover how to use PyCharm in Day 15. That said, you can write your own clear() function or configure your IDE like so: \\n\\nhttps://www.udemy.com/course/100-days-of-code/learn/lecture/19279420#questions/16084076\\n\\n\""
            ],
            "application/vnd.google.colaboratory.intrinsic+json": {
              "type": "string"
            }
          },
          "metadata": {},
          "execution_count": 8
        }
      ],
      "source": [
        "logo = '''\n",
        "                         ___________\n",
        "                         \\         /\n",
        "                          )_______(\n",
        "                          |\"\"\"\"\"\"\"|_.-._,.---------.,_.-._\n",
        "                          |       | | |               | | ''-.\n",
        "                          |       |_| |_             _| |_..-'\n",
        "                          |_______| '-' `'---------'` '-'\n",
        "                          )\"\"\"\"\"\"\"(\n",
        "                         /_________\\\\\n",
        "                       .-------------.\n",
        "                      /_______________\\\\\n",
        "'''\n",
        "\n",
        "# from replit import clear\n",
        "#from art import logo\n",
        "print(logo)\n",
        "\n",
        "bids = {}\n",
        "bidding_finished = False\n",
        "\n",
        "def find_highest_bidder(bidding_record):\n",
        "  highest_bid = 0\n",
        "  winner = \"\"\n",
        "  # bidding_record = {\"Angela\": 123, \"James\": 321}\n",
        "  for bidder in bidding_record:\n",
        "    bid_amount = bidding_record[bidder]\n",
        "    if bid_amount > highest_bid:\n",
        "      highest_bid = bid_amount\n",
        "      winner = bidder\n",
        "  print(f\"The winner is {winner} with a bid of ${highest_bid}\")\n",
        "\n",
        "while not bidding_finished:\n",
        "  name = input(\"What is your name?: \")\n",
        "  price = int(input(\"What is your bid?: $\"))\n",
        "  bids[name] = price\n",
        "  should_continue = input(\"Are there any other bidders? Type 'yes or 'no'.\\n\")\n",
        "  if should_continue == \"no\":\n",
        "    bidding_finished = True\n",
        "    find_highest_bidder(bids)\n",
        "  elif should_continue == \"yes\":\n",
        "    clear()\n",
        "\n",
        "\n",
        "\"\"\"\n",
        "FAQ: My console doesn't clear()\n",
        "\n",
        "This will happen if you’re using an IDE other than replit.\n",
        "I’ll cover how to use PyCharm in Day 15. That said, you can write your own clear() function or configure your IDE like so:\n",
        "\n",
        "https://www.udemy.com/course/100-days-of-code/learn/lecture/19279420#questions/16084076\n",
        "\n",
        "\"\"\""
      ]
    }
  ]
}